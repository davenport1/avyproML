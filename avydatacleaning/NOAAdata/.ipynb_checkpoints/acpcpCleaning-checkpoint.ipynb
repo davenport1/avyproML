{
 "cells": [
  {
   "cell_type": "code",
   "execution_count": 8,
   "id": "8de7232a",
   "metadata": {},
   "outputs": [],
   "source": [
    "# cleaning weather data 2019-2020 for model training/testing\n",
    "# \n",
    "#\n",
    "\n",
    "import netCDF4 as nc\n",
    "import pandas as pd\n",
    "import numpy as np\n"
   ]
  },
  {
   "cell_type": "code",
   "execution_count": 11,
   "id": "e7d4f18d",
   "metadata": {},
   "outputs": [
    {
     "name": "stdout",
     "output_type": "stream",
     "text": [
      "<class 'netCDF4._netCDF4.Dataset'>\n",
      "root group (NETCDF4_CLASSIC data model, file format HDF5):\n",
      "    Conventions: CF-1.2\n",
      "    centerlat: 50.0\n",
      "    centerlon: -107.0\n",
      "    comments: \n",
      "    institution: National Centers for Environmental Prediction\n",
      "    latcorners: [ 1.000001  0.897945 46.3544   46.63433 ]\n",
      "    loncorners: [-145.5       -68.32005    -2.569891  148.6418  ]\n",
      "    platform: Model\n",
      "    standardpar1: 50.0\n",
      "    standardpar2: 50.000001\n",
      "    title: 8x Daily NARR\n",
      "    history: created Mon Jul 18 13:05:11 MDT 2016 by NOAA/ESRL/PSD\n",
      "    dataset_title: NCEP North American Regional Reanalysis (NARR)\n",
      "    references: https://www.esrl.noaa.gov/psd/data/gridded/data.narr.html\n",
      "    source: http://www.emc.ncep.noaa.gov/mmb/rreanl/index.html\n",
      "    References: \n",
      "    dimensions(sizes): time(2920), y(277), x(349)\n",
      "    variables(dimensions): float64 time(time), float32 lat(y, x), float32 lon(y, x), float32 y(y), float32 x(x), int32 Lambert_Conformal(), float32 acpcp(time, y, x)\n",
      "    groups: \n"
     ]
    }
   ],
   "source": [
    "# path: C:\\Users\\daven\\Documents\\avydatacleaning\\NOAAdata\n",
    "# importing netcdf file\n",
    "\n",
    "\n",
    "filename = 'acpcp.2019.nc'\n",
    "ds = nc.Dataset(filename)\n",
    "print(ds)"
   ]
  },
  {
   "cell_type": "code",
   "execution_count": 14,
   "id": "9535a557",
   "metadata": {},
   "outputs": [
    {
     "name": "stdout",
     "output_type": "stream",
     "text": [
      "dict_keys(['time', 'lat', 'lon', 'y', 'x', 'Lambert_Conformal', 'acpcp'])\n"
     ]
    }
   ],
   "source": [
    "print(ds.variables.keys())"
   ]
  },
  {
   "cell_type": "code",
   "execution_count": 19,
   "id": "c028d1ac",
   "metadata": {},
   "outputs": [
    {
     "name": "stdout",
     "output_type": "stream",
     "text": [
      "<class 'netCDF4._netCDF4.Variable'>\n",
      "float64 time(time)\n",
      "    axis: T\n",
      "    coordinate_defines: start\n",
      "    delta_t: 0000-00-00 03:00:00\n",
      "    long_name: Time\n",
      "    standard_name: time\n",
      "    units: hours since 1800-1-1 00:00:0.0\n",
      "    actual_range: [1919712. 1928469.]\n",
      "unlimited dimensions: time\n",
      "current shape = (2920,)\n",
      "filling on, default _FillValue of 9.969209968386869e+36 used\n",
      "<class 'netCDF4._netCDF4.Variable'>\n",
      "float32 lat(y, x)\n",
      "    axis: Y\n",
      "    coordinate_defines: point\n",
      "    long_name: Latitude\n",
      "    standard_name: latitude\n",
      "    units: degrees_north\n",
      "unlimited dimensions: \n",
      "current shape = (277, 349)\n",
      "filling on, default _FillValue of 9.969209968386869e+36 used\n",
      "<class 'netCDF4._netCDF4.Variable'>\n",
      "float32 lon(y, x)\n",
      "    axis: X\n",
      "    coordinate_defines: point\n",
      "    long_name: Longitude\n",
      "    standard_name: longitude\n",
      "    units: degrees_east\n",
      "unlimited dimensions: \n",
      "current shape = (277, 349)\n",
      "filling on, default _FillValue of 9.969209968386869e+36 used\n",
      "<class 'netCDF4._netCDF4.Variable'>\n",
      "float32 y(y)\n",
      "    long_name: northward distance from southwest corner of domain in projection coordinates\n",
      "    standard_name: projection_y_coordinate\n",
      "    units: m\n",
      "unlimited dimensions: \n",
      "current shape = (277,)\n",
      "filling on, default _FillValue of 9.969209968386869e+36 used\n",
      "<class 'netCDF4._netCDF4.Variable'>\n",
      "float32 x(x)\n",
      "    long_name: eastward distance from southwest corner of domain in projection coordinates\n",
      "    standard_name: projection_x_coordinate\n",
      "    units: m\n",
      "unlimited dimensions: \n",
      "current shape = (349,)\n",
      "filling on, default _FillValue of 9.969209968386869e+36 used\n",
      "<class 'netCDF4._netCDF4.Variable'>\n",
      "int32 Lambert_Conformal()\n",
      "    false_easting: 5632642.22547\n",
      "    false_northing: 4612545.65137\n",
      "    grid_mapping_name: lambert_conformal_conic\n",
      "    latitude_of_projection_origin: 50.0\n",
      "    longitude_of_central_meridian: -107.0\n",
      "    standard_parallel: [50. 50.]\n",
      "unlimited dimensions: \n",
      "current shape = ()\n",
      "filling on, default _FillValue of -2147483647 used\n",
      "<class 'netCDF4._netCDF4.Variable'>\n",
      "float32 acpcp(time, y, x)\n",
      "    GRIB_id: 63\n",
      "    GRIB_name: ACPCP\n",
      "    _FillValue: 9.96921e+36\n",
      "    coordinates: lat lon\n",
      "    dataset: NARR 3-hourly\n",
      "    grid_mapping: Lambert_Conformal\n",
      "    level_desc: Surface\n",
      "    long_name: 3-hourly accumulated convective precipitation at Surface\n",
      "    parent_stat: Other\n",
      "    standard_name: convective_precipitation_amount\n",
      "    statistic: Individual Obs\n",
      "    units: kg/m^2\n",
      "    var_desc: convective precipitation accumulation\n",
      "    missing_value: -9.96921e+36\n",
      "    valid_range: [ 0. 80.]\n",
      "    actual_range: [ 0.      67.13281]\n",
      "unlimited dimensions: time\n",
      "current shape = (2920, 277, 349)\n",
      "filling on\n"
     ]
    }
   ],
   "source": [
    "# Accessing variables of the netcdf file\n",
    "time = ds.variables['time']\n",
    "lat = ds.variables['lat']\n",
    "lon = ds.variables['lon']\n",
    "y = ds.variables['y']\n",
    "x = ds.variables['x']\n",
    "Lambert_Conformal = ds.variables['Lambert_Conformal']\n",
    "acpcp = ds.variables['acpcp']\n",
    "\n",
    "# showing contents of variables\n",
    "print(time)\n",
    "print(lat)\n",
    "print(lon)\n",
    "print(y)\n",
    "print(x)\n",
    "print(Lambert_Conformal)\n",
    "print(acpcp)\n"
   ]
  },
  {
   "cell_type": "code",
   "execution_count": 29,
   "id": "141dc261",
   "metadata": {},
   "outputs": [
    {
     "name": "stdout",
     "output_type": "stream",
     "text": [
      "[1919712. 1919715. 1919718. ... 1928463. 1928466. 1928469.]\n",
      "[[[0.0 0.0 0.0 ... -- -- --]\n",
      "  [0.0 0.0 0.0 ... -- -- --]\n",
      "  [0.0 0.0 0.0 ... -- -- --]\n",
      "  ...\n",
      "  [-- -- -- ... -- -- --]\n",
      "  [-- -- -- ... -- -- --]\n",
      "  [-- -- -- ... -- -- --]]\n",
      "\n",
      " [[0.0 0.0 0.015625 ... -- -- --]\n",
      "  [0.0 0.0 0.015625 ... -- -- --]\n",
      "  [0.015625 0.0234375 0.03125 ... -- -- --]\n",
      "  ...\n",
      "  [-- -- -- ... -- -- --]\n",
      "  [-- -- -- ... -- -- --]\n",
      "  [-- -- -- ... -- -- --]]\n",
      "\n",
      " [[0.109375 0.0546875 0.0078125 ... -- -- --]\n",
      "  [0.1484375 0.140625 0.0078125 ... -- -- --]\n",
      "  [0.0390625 0.03125 0.0703125 ... -- -- --]\n",
      "  ...\n",
      "  [-- -- -- ... -- -- --]\n",
      "  [-- -- -- ... -- -- --]\n",
      "  [-- -- -- ... -- -- --]]\n",
      "\n",
      " ...\n",
      "\n",
      " [[0.0 0.0 0.0 ... -- -- --]\n",
      "  [0.0 0.0 0.0 ... -- -- --]\n",
      "  [0.0 0.0 0.0 ... -- -- --]\n",
      "  ...\n",
      "  [-- -- -- ... -- -- --]\n",
      "  [-- -- -- ... -- -- --]\n",
      "  [-- -- -- ... -- -- --]]\n",
      "\n",
      " [[0.0 0.0 0.0 ... -- -- --]\n",
      "  [0.0 0.0 0.0 ... -- -- --]\n",
      "  [0.0 0.0 0.0 ... -- -- --]\n",
      "  ...\n",
      "  [-- -- -- ... -- -- --]\n",
      "  [-- -- -- ... -- -- --]\n",
      "  [-- -- -- ... -- -- --]]\n",
      "\n",
      " [[0.0 0.0 0.0 ... -- -- --]\n",
      "  [0.0 0.0 0.0 ... -- -- --]\n",
      "  [0.0 0.0 0.0 ... -- -- --]\n",
      "  ...\n",
      "  [-- -- -- ... -- -- --]\n",
      "  [-- -- -- ... -- -- --]\n",
      "  [-- -- -- ... -- -- --]]]\n"
     ]
    }
   ],
   "source": [
    "# accessing data from netCDF variables\n",
    "time_data = time[:]\n",
    "print(time_data)\n",
    "acpcp_data = acpcp[:]\n",
    "print(acpcp_data)\n"
   ]
  },
  {
   "cell_type": "code",
   "execution_count": 30,
   "id": "c0c49952",
   "metadata": {},
   "outputs": [],
   "source": [
    "# coordinates:\n",
    "# TL: 39 39'51\" N 120 33'07\" W\n",
    "# TR: 39 27'36\" N 119 46'51\" W\n",
    "# BL: 38 26'00\" N 120 32'34\" W\n",
    "# BR: 38 26'12\" N 119 44'46\" W\n",
    "\n",
    "# need data just for these coordinates \n",
    "   "
   ]
  },
  {
   "cell_type": "code",
   "execution_count": null,
   "id": "b4849e37",
   "metadata": {},
   "outputs": [],
   "source": []
  }
 ],
 "metadata": {
  "kernelspec": {
   "display_name": "Python 3 (ipykernel)",
   "language": "python",
   "name": "python3"
  },
  "language_info": {
   "codemirror_mode": {
    "name": "ipython",
    "version": 3
   },
   "file_extension": ".py",
   "mimetype": "text/x-python",
   "name": "python",
   "nbconvert_exporter": "python",
   "pygments_lexer": "ipython3",
   "version": "3.9.12"
  }
 },
 "nbformat": 4,
 "nbformat_minor": 5
}
