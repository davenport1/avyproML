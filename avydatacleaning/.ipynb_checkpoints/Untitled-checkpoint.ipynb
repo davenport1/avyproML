{
 "cells": [
  {
   "cell_type": "code",
   "execution_count": 26,
   "id": "dd4a7f05",
   "metadata": {},
   "outputs": [],
   "source": [
    "# Cleaning avalanche forecast data to be used as outputs for training our avalanche prediction model\n",
    "# 1 season of avalanche forecast data\n",
    "# aspect, elevation, danger level and avalanche problem type \n",
    "\n",
    "import numpy as np\n",
    "import pandas as pd"
   ]
  },
  {
   "cell_type": "code",
   "execution_count": 27,
   "id": "9bc82f06",
   "metadata": {},
   "outputs": [],
   "source": [
    "train_data = pd.read_csv('avy_data.csv')\n"
   ]
  },
  {
   "cell_type": "code",
   "execution_count": 28,
   "id": "ceff9f46",
   "metadata": {},
   "outputs": [
    {
     "name": "stdout",
     "output_type": "stream",
     "text": [
      "    web-scraper-order                              web-scraper-start-url  \\\n",
      "0      1673820689-288  https://www.sierraavalanchecenter.org/prior-ja...   \n",
      "1      1673820691-289  https://www.sierraavalanchecenter.org/prior-ja...   \n",
      "2      1673820694-290  https://www.sierraavalanchecenter.org/prior-ja...   \n",
      "3      1673820700-291  https://www.sierraavalanchecenter.org/prior-ja...   \n",
      "4      1673820703-292  https://www.sierraavalanchecenter.org/prior-ja...   \n",
      "..                ...                                                ...   \n",
      "151    1673821078-439  https://www.sierraavalanchecenter.org/prior-ja...   \n",
      "152    1673821082-440  https://www.sierraavalanchecenter.org/prior-ja...   \n",
      "153    1673821084-441  https://www.sierraavalanchecenter.org/prior-ja...   \n",
      "154    1673821087-442  https://www.sierraavalanchecenter.org/prior-ja...   \n",
      "155    1673821089-443  https://www.sierraavalanchecenter.org/prior-ja...   \n",
      "\n",
      "                                                   avy  \\\n",
      "0    Click here to see the full forecast for 2019-1...   \n",
      "1    Click here to see the full forecast for 2019-1...   \n",
      "2    Click here to see the full forecast for 2019-1...   \n",
      "3    Click here to see the full forecast for 2019-1...   \n",
      "4    Click here to see the full forecast for 2019-1...   \n",
      "..                                                 ...   \n",
      "151  Click here to see the full forecast for 2020-0...   \n",
      "152  Click here to see the full forecast for 2020-0...   \n",
      "153  Click here to see the full forecast for 2020-0...   \n",
      "154  Click here to see the full forecast for 2020-0...   \n",
      "155  Click here to see the full forecast for 2020-0...   \n",
      "\n",
      "                                              avy-href  \\\n",
      "0    https://www.sierraavalanchecenter.org/advisory...   \n",
      "1    https://www.sierraavalanchecenter.org/advisory...   \n",
      "2    https://www.sierraavalanchecenter.org/advisory...   \n",
      "3    https://www.sierraavalanchecenter.org/advisory...   \n",
      "4    https://www.sierraavalanchecenter.org/advisory...   \n",
      "..                                                 ...   \n",
      "151  https://www.sierraavalanchecenter.org/advisory...   \n",
      "152  https://www.sierraavalanchecenter.org/advisory...   \n",
      "153  https://www.sierraavalanchecenter.org/advisory...   \n",
      "154  https://www.sierraavalanchecenter.org/advisory...   \n",
      "155  https://www.sierraavalanchecenter.org/advisory...   \n",
      "\n",
      "                                        above_treeline  \\\n",
      "0    3. Considerable\\n        ?\\n        Above Tree...   \n",
      "1       2. Moderate\\n        ?\\n        Above Treeline   \n",
      "2       2. Moderate\\n        ?\\n        Above Treeline   \n",
      "3           4. High\\n        ?\\n        Above Treeline   \n",
      "4    3. Considerable\\n        ?\\n        Above Tree...   \n",
      "..                                                 ...   \n",
      "151     2. Moderate\\n        ?\\n        Above Treeline   \n",
      "152     2. Moderate\\n        ?\\n        Above Treeline   \n",
      "153     2. Moderate\\n        ?\\n        Above Treeline   \n",
      "154     2. Moderate\\n        ?\\n        Above Treeline   \n",
      "155     2. Moderate\\n        ?\\n        Above Treeline   \n",
      "\n",
      "                                         near_treeline  \\\n",
      "0    3. Considerable\\n        ?\\n        Near Treeline   \n",
      "1        2. Moderate\\n        ?\\n        Near Treeline   \n",
      "2        2. Moderate\\n        ?\\n        Near Treeline   \n",
      "3            4. High\\n        ?\\n        Near Treeline   \n",
      "4    3. Considerable\\n        ?\\n        Near Treeline   \n",
      "..                                                 ...   \n",
      "151      2. Moderate\\n        ?\\n        Near Treeline   \n",
      "152      2. Moderate\\n        ?\\n        Near Treeline   \n",
      "153      2. Moderate\\n        ?\\n        Near Treeline   \n",
      "154      2. Moderate\\n        ?\\n        Near Treeline   \n",
      "155      2. Moderate\\n        ?\\n        Near Treeline   \n",
      "\n",
      "                                        below_treeline  \\\n",
      "0       2. Moderate\\n        ?\\n        Below Treeline   \n",
      "1            1. Low\\n        ?\\n        Below Treeline   \n",
      "2            1. Low\\n        ?\\n        Below Treeline   \n",
      "3    3. Considerable\\n        ?\\n        Below Tree...   \n",
      "4       2. Moderate\\n        ?\\n        Below Treeline   \n",
      "..                                                 ...   \n",
      "151     2. Moderate\\n        ?\\n        Below Treeline   \n",
      "152     2. Moderate\\n        ?\\n        Below Treeline   \n",
      "153     2. Moderate\\n        ?\\n        Below Treeline   \n",
      "154     2. Moderate\\n        ?\\n        Below Treeline   \n",
      "155     2. Moderate\\n        ?\\n        Below Treeline   \n",
      "\n",
      "                          problem_1                        problem_2  \n",
      "0    Avalanche Problem 1: Wind Slab  Avalanche Problem 2: Storm Slab  \n",
      "1    Avalanche Problem 1: Wind Slab              recent observations  \n",
      "2    Avalanche Problem 1: Wind Slab              recent observations  \n",
      "3    Avalanche Problem 1: Wind Slab  Avalanche Problem 2: Storm Slab  \n",
      "4    Avalanche Problem 1: Wind Slab  Avalanche Problem 2: Storm Slab  \n",
      "..                              ...                              ...  \n",
      "151  Avalanche Problem 1: Loose Wet     Avalanche Problem 2: Cornice  \n",
      "152  Avalanche Problem 1: Loose Wet     Avalanche Problem 2: Cornice  \n",
      "153  Avalanche Problem 1: Loose Wet     Avalanche Problem 2: Cornice  \n",
      "154  Avalanche Problem 1: Loose Wet     Avalanche Problem 2: Cornice  \n",
      "155  Avalanche Problem 1: Loose Wet     Avalanche Problem 2: Cornice  \n",
      "\n",
      "[156 rows x 9 columns]\n"
     ]
    }
   ],
   "source": [
    "print(train_data)"
   ]
  },
  {
   "cell_type": "code",
   "execution_count": 29,
   "id": "2320ed2b",
   "metadata": {},
   "outputs": [
    {
     "ename": "TypeError",
     "evalue": "'int' object is not iterable",
     "output_type": "error",
     "traceback": [
      "\u001b[1;31m---------------------------------------------------------------------------\u001b[0m",
      "\u001b[1;31mTypeError\u001b[0m                                 Traceback (most recent call last)",
      "Input \u001b[1;32mIn [29]\u001b[0m, in \u001b[0;36m<cell line: 7>\u001b[1;34m()\u001b[0m\n\u001b[0;32m      4\u001b[0m train_data[\u001b[38;5;124m'\u001b[39m\u001b[38;5;124mproblem_1\u001b[39m\u001b[38;5;124m'\u001b[39m] \u001b[38;5;241m=\u001b[39m train_data[\u001b[38;5;124m'\u001b[39m\u001b[38;5;124mproblem_1\u001b[39m\u001b[38;5;124m'\u001b[39m]\u001b[38;5;241m.\u001b[39mstr\u001b[38;5;241m.\u001b[39msplit(\u001b[38;5;124m'\u001b[39m\u001b[38;5;124m:\u001b[39m\u001b[38;5;124m'\u001b[39m)\u001b[38;5;241m.\u001b[39mstr[\u001b[38;5;241m1\u001b[39m]\n\u001b[0;32m      5\u001b[0m train_data[\u001b[38;5;124m'\u001b[39m\u001b[38;5;124mproblem_2\u001b[39m\u001b[38;5;124m'\u001b[39m] \u001b[38;5;241m=\u001b[39m train_data[\u001b[38;5;124m'\u001b[39m\u001b[38;5;124mproblem_2\u001b[39m\u001b[38;5;124m'\u001b[39m]\u001b[38;5;241m.\u001b[39mstr\u001b[38;5;241m.\u001b[39msplit(\u001b[38;5;124m'\u001b[39m\u001b[38;5;124m:\u001b[39m\u001b[38;5;124m'\u001b[39m)\u001b[38;5;241m.\u001b[39mstr[\u001b[38;5;241m1\u001b[39m]\n\u001b[1;32m----> 7\u001b[0m \u001b[38;5;28;01mfor\u001b[39;00m row \u001b[38;5;129;01min\u001b[39;00m \u001b[38;5;28mlen\u001b[39m(train_data[\u001b[38;5;124m'\u001b[39m\u001b[38;5;124mavy\u001b[39m\u001b[38;5;124m'\u001b[39m]):\n\u001b[0;32m      8\u001b[0m     train_data[\u001b[38;5;124m'\u001b[39m\u001b[38;5;124mavy\u001b[39m\u001b[38;5;124m'\u001b[39m][row] \u001b[38;5;241m=\u001b[39m train_data[\u001b[38;5;124m'\u001b[39m\u001b[38;5;124mavy\u001b[39m\u001b[38;5;124m'\u001b[39m][row][\u001b[38;5;241m-\u001b[39m\u001b[38;5;241m10\u001b[39m:]\n\u001b[0;32m      9\u001b[0m     \u001b[38;5;28mprint\u001b[39m( train_data[\u001b[38;5;124m'\u001b[39m\u001b[38;5;124mavy\u001b[39m\u001b[38;5;124m'\u001b[39m][row])\n",
      "\u001b[1;31mTypeError\u001b[0m: 'int' object is not iterable"
     ]
    }
   ],
   "source": [
    "train_data['above_treeline'] = train_data['above_treeline'].str[:1]\n",
    "train_data['near_treeline'] = train_data['near_treeline'].str[:1]\n",
    "train_data['below_treeline'] = train_data['below_treeline'].str[:1]\n",
    "train_data['problem_1'] = train_data['problem_1'].str.split(':').str[1]\n",
    "train_data['problem_2'] = train_data['problem_2'].str.split(':').str[1]\n",
    "\n",
    "for row in train_data['avy']:\n",
    "    row = row[-10:]\n",
    "    \n",
    "print(train_data)"
   ]
  },
  {
   "cell_type": "code",
   "execution_count": 5,
   "id": "9462ec6a",
   "metadata": {},
   "outputs": [],
   "source": [
    "train_data.to_csv('cleaned_avy_2019-2020.csv', index=False)"
   ]
  },
  {
   "cell_type": "code",
   "execution_count": null,
   "id": "d0998257",
   "metadata": {},
   "outputs": [],
   "source": []
  }
 ],
 "metadata": {
  "kernelspec": {
   "display_name": "Python 3 (ipykernel)",
   "language": "python",
   "name": "python3"
  },
  "language_info": {
   "codemirror_mode": {
    "name": "ipython",
    "version": 3
   },
   "file_extension": ".py",
   "mimetype": "text/x-python",
   "name": "python",
   "nbconvert_exporter": "python",
   "pygments_lexer": "ipython3",
   "version": "3.9.12"
  }
 },
 "nbformat": 4,
 "nbformat_minor": 5
}
