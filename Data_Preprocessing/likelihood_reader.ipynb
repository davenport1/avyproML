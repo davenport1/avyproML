{
 "cells": [
  {
   "attachments": {},
   "cell_type": "markdown",
   "metadata": {},
   "source": [
    "#### Imports"
   ]
  },
  {
   "cell_type": "code",
   "execution_count": 78,
   "metadata": {},
   "outputs": [],
   "source": [
    "# Import necessary packages.\n",
    "from PIL import Image\n",
    "import pandas as pd\n",
    "import os\n",
    "import urllib.request\n",
    "import math"
   ]
  },
  {
   "attachments": {},
   "cell_type": "markdown",
   "metadata": {},
   "source": [
    "#### Create DataFrame for Outputs"
   ]
  },
  {
   "cell_type": "code",
   "execution_count": 79,
   "metadata": {},
   "outputs": [],
   "source": [
    "# Our output file with possible likelihood ratings as headers.\n",
    "header_names = [\"date\", \"unlikely\", \"possible\", \"likely\", \"very_likely\", \"certain\"]\n",
    "\n",
    "# Add headers.\n",
    "df = pd.DataFrame(columns=header_names)"
   ]
  },
  {
   "cell_type": "code",
   "execution_count": 80,
   "metadata": {},
   "outputs": [],
   "source": [
    "# Our total span, covering multiple seasons.\n",
    "years = (\"17\", \"18\", \"19\")"
   ]
  },
  {
   "attachments": {},
   "cell_type": "markdown",
   "metadata": {},
   "source": [
    "#### One-hot encode Likelihood"
   ]
  },
  {
   "cell_type": "code",
   "execution_count": 81,
   "metadata": {},
   "outputs": [],
   "source": [
    "for year in years:\n",
    "    title = \"likelihoods_\" + year + \".csv\"\n",
    "    likelihoods = pd.read_csv(title)\n",
    "\n",
    "    # Options for likelihood: unlikely, possible, likely, very likely, certain.\n",
    "    for index, row in likelihoods.iterrows():\n",
    "        date = row[\"date\"][40:]\n",
    "\n",
    "        # One-hot encode likelihood.\n",
    "        unlikely = [date, 1, 0, 0, 0, 0]\n",
    "        possible = [date, 0, 1, 0, 0, 0]\n",
    "        likely = [date, 0, 0, 1, 0, 0]\n",
    "        very_likely = [date, 0, 0, 0, 1, 0]\n",
    "        certain = [date, 0, 0, 0, 0, 1]\n",
    "        \n",
    "        # Check to make sure likelihood ratings were properly scraped.\n",
    "        likelihood = 0\n",
    "        if not pd.isna(row[\"very_likely\"]):\n",
    "            likelihood = row[\"very_likely\"]\n",
    "        elif not pd.isna(row[\"likely\"]):\n",
    "            likelihood = row[\"likely\"]\n",
    "        elif not pd.isna(row[\"possible\"]):\n",
    "            likelihood = row[\"possible\"]\n",
    "        elif not pd.isna(row[\"unlikely\"]):\n",
    "            likelihood = row[\"unlikely\"]\n",
    "        \n",
    "        # Likelihood rating is the last character of the scraped string.\n",
    "        if likelihood != 0:\n",
    "            if likelihood[-1] == \"5\":\n",
    "                entry = certain\n",
    "            elif likelihood[-1] == \"4\":\n",
    "                entry = very_likely\n",
    "            elif likelihood[-1] == \"3\":\n",
    "                entry = likely\n",
    "            elif likelihood[-1] == \"2\":\n",
    "                entry = possible\n",
    "            elif likelihood[-1] == \"1\":\n",
    "                entry = unlikely         \n",
    "            df.loc[len(df)] = entry"
   ]
  },
  {
   "attachments": {},
   "cell_type": "markdown",
   "metadata": {},
   "source": [
    "#### Sort DataFrame by date"
   ]
  },
  {
   "cell_type": "code",
   "execution_count": 82,
   "metadata": {},
   "outputs": [],
   "source": [
    "# Sort by date.\n",
    "df['date'] = pd.to_datetime(df.date, infer_datetime_format = True)\n",
    "df.sort_values(by = 'date', ascending = True, inplace = True)\n",
    "\n",
    "# Turn DataFrame into CSV.\n",
    "df.to_csv(\"likelihoods.csv\", index=False)"
   ]
  }
 ],
 "metadata": {
  "kernelspec": {
   "display_name": "base",
   "language": "python",
   "name": "python3"
  },
  "language_info": {
   "codemirror_mode": {
    "name": "ipython",
    "version": 3
   },
   "file_extension": ".py",
   "mimetype": "text/x-python",
   "name": "python",
   "nbconvert_exporter": "python",
   "pygments_lexer": "ipython3",
   "version": "3.9.12"
  },
  "orig_nbformat": 4,
  "vscode": {
   "interpreter": {
    "hash": "0150ad5ad973dda1cabc01bab0fdc0db78b5f921ad0cd2d7560a3f44e4650dba"
   }
  }
 },
 "nbformat": 4,
 "nbformat_minor": 2
}
