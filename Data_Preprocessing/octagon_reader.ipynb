{
 "cells": [
  {
   "attachments": {},
   "cell_type": "markdown",
   "metadata": {},
   "source": [
    "#### Imports"
   ]
  },
  {
   "cell_type": "code",
   "execution_count": 19,
   "metadata": {},
   "outputs": [],
   "source": [
    "# Import necessary packages.\n",
    "from PIL import Image\n",
    "import pandas as pd\n",
    "import os\n",
    "import urllib.request"
   ]
  },
  {
   "attachments": {},
   "cell_type": "markdown",
   "metadata": {},
   "source": [
    "#### Create DataFrame for Outputs"
   ]
  },
  {
   "cell_type": "code",
   "execution_count": 20,
   "metadata": {},
   "outputs": [],
   "source": [
    "# Header for our aspects.\n",
    "header_names = [\"date\",\n",
    "                \"N_btl\", \"N_ntl\", \"N_atl\",\n",
    "                \"NE_btl\", \"NE_ntl\", \"NE_atl\",\n",
    "                \"E_btl\", \"E_ntl\", \"E_atl\",\n",
    "                \"SE_btl\", \"SE_ntl\", \"SE_atl\",\n",
    "                \"S_btl\", \"S_ntl\", \"S_atl\",\n",
    "                \"SW_btl\", \"SW_ntl\", \"SW_atl\",\n",
    "                \"W_btl\", \"W_ntl\", \"W_atl\",\n",
    "                \"NW_btl\", \"NW_ntl\", \"NW_atl\"]\n",
    "\n",
    "# Add headers.\n",
    "df = pd.DataFrame(columns=header_names)"
   ]
  },
  {
   "attachments": {},
   "cell_type": "markdown",
   "metadata": {},
   "source": [
    "#### Grab Images"
   ]
  },
  {
   "cell_type": "code",
   "execution_count": 21,
   "metadata": {},
   "outputs": [],
   "source": [
    "path = \"octagons/\"\n",
    "base_link = \"https://www.sierraavalanchecenter.org\"\n",
    "octo_links = [\"octo_links_17.csv\", \"octo_links_18.csv\", \"octo_links_19.csv\"]\n",
    "aspects = \"aspects.csv\""
   ]
  },
  {
   "cell_type": "code",
   "execution_count": 22,
   "metadata": {},
   "outputs": [],
   "source": [
    "# Download PNGs.\n",
    "def dl_png(url, file_path, file_name):\n",
    "    full_path = file_path + file_name\n",
    "    urllib.request.urlretrieve(url, full_path)\n",
    "\n",
    "# Read image source links from all three source files.\n",
    "for octo_link in octo_links:\n",
    "    octagons = pd.read_csv(octo_link, usecols=[\"octagon-src\"])\n",
    "\n",
    "    # Loop through image source links.\n",
    "    for image_link in octagons[\"octagon-src\"]:\n",
    "        if isinstance(image_link, str):\n",
    "            url = base_link + image_link\n",
    "            date = image_link[37:41] + \"-\" + image_link[41:43] + \"-\" + image_link[43:45]\n",
    "            dl_png(url, path, date + \".png\")"
   ]
  },
  {
   "attachments": {},
   "cell_type": "markdown",
   "metadata": {},
   "source": [
    "#### Image dimensions are [202 X 237]"
   ]
  },
  {
   "attachments": {},
   "cell_type": "markdown",
   "metadata": {},
   "source": [
    "#### Areas of interest are stated in the report document.\n",
    "There are, in total, 24 components of the image we wish to analyze. We read the pixel values to determine which aspects are triggered.\n",
    "\n",
    "\n"
   ]
  },
  {
   "cell_type": "code",
   "execution_count": 23,
   "metadata": {},
   "outputs": [],
   "source": [
    "sections = {\"N_btl\" : (100, 30), \"N_ntl\" : (100, 50), \"N_atl\" : (100, 75),\n",
    "            \"NE_btl\" : (148, 51), \"NE_ntl\" : (131, 67), \"NE_atl\" : (114, 82),\n",
    "            \"E_btl\" : (160, 100), \"E_ntl\" : (140, 90), \"E_atl\" : (121, 98),    \n",
    "            \"SE_btl\" : (147, 143), \"SE_ntl\" : (132, 129), \"SE_atl\" : (115, 114),\n",
    "            \"S_btl\" : (100, 165), \"S_ntl\" : (100, 142), \"S_atl\" : (100, 122),\n",
    "            \"SW_btl\" : (53, 145), \"SW_ntl\" : (67, 129), \"SW_atl\" : (86, 113),\n",
    "            \"W_btl\" : (33, 98), \"W_ntl\" : (55, 97), \"W_atl\" : (76, 98),\n",
    "            \"NW_btl\" : (54, 50), \"NW_ntl\" : (68, 66), \"NW_atl\" : (82, 81)}\n",
    "\n",
    "# RGB value for a greyed out pixel. These greyed areas are \"triggered\" for avalanche danger.\n",
    "greyRGB = [(152, 152, 152), (153, 153, 153)]"
   ]
  },
  {
   "cell_type": "code",
   "execution_count": 24,
   "metadata": {},
   "outputs": [],
   "source": [
    "# Iterate through all .png files in our source directory.\n",
    "# One-hot encode the octagon sections.\n",
    "for file in os.listdir(path):\n",
    "    if file.endswith(\".png\"):\n",
    "        file_path = f\"{path}/{file}\"\n",
    "        im = Image.open(file_path)\n",
    "        px = im.load()\n",
    "        # Add date to dataframe.\n",
    "        row = [file[0:10]]\n",
    "        # Check if sections are \"greyed out\".\n",
    "        for key in sections:\n",
    "            coordinate = sections[key]\n",
    "            if px[coordinate] in greyRGB:\n",
    "                row.append(1)\n",
    "            else:\n",
    "                row.append(0)\n",
    "        df.loc[len(df)] = row   "
   ]
  },
  {
   "attachments": {},
   "cell_type": "markdown",
   "metadata": {},
   "source": [
    "#### Sort DataFrame by date"
   ]
  },
  {
   "cell_type": "code",
   "execution_count": 25,
   "metadata": {},
   "outputs": [],
   "source": [
    "df['date'] = pd.to_datetime(df.date, infer_datetime_format = True)\n",
    "df.sort_values(by = 'date', ascending = True, inplace = True)\n",
    "\n",
    "# Turn DataFrame into CSV.\n",
    "df.to_csv(aspects, index=False)"
   ]
  }
 ],
 "metadata": {
  "kernelspec": {
   "display_name": "base",
   "language": "python",
   "name": "python3"
  },
  "language_info": {
   "codemirror_mode": {
    "name": "ipython",
    "version": 3
   },
   "file_extension": ".py",
   "mimetype": "text/x-python",
   "name": "python",
   "nbconvert_exporter": "python",
   "pygments_lexer": "ipython3",
   "version": "3.9.12 (main, Apr  5 2022, 01:53:17) \n[Clang 12.0.0 ]"
  },
  "orig_nbformat": 4,
  "vscode": {
   "interpreter": {
    "hash": "0150ad5ad973dda1cabc01bab0fdc0db78b5f921ad0cd2d7560a3f44e4650dba"
   }
  }
 },
 "nbformat": 4,
 "nbformat_minor": 2
}
