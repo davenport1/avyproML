{
 "cells": [
  {
   "cell_type": "code",
   "execution_count": 61,
   "metadata": {},
   "outputs": [],
   "source": [
    "from sklearn import datasets\n",
    "from sklearn.model_selection import train_test_split\n",
    "from sklearn.multiclass import OneVsRestClassifier\n",
    "from sklearn import svm\n",
    "from sklearn import metrics\n",
    "from sklearn.metrics import accuracy_score\n",
    "import pandas as pd"
   ]
  },
  {
   "attachments": {},
   "cell_type": "markdown",
   "metadata": {},
   "source": [
    "## Load, Aggregate, and Shape Data into Train and Test Sets"
   ]
  },
  {
   "cell_type": "code",
   "execution_count": 62,
   "metadata": {},
   "outputs": [],
   "source": [
    "### CURRENTLY ONLY FOR THE 2018 SEASON !!! EASY TO EXPAND ###\n",
    "\n",
    "target = pd.read_csv(\"Y_data.csv\")\n",
    "input = pd.read_csv(\"X_2018-2019_final.csv\")\n",
    "\n",
    "# Match input data to output data by date.\n",
    "data = pd.merge(input, target, how='inner')\n",
    "data.fillna(0)\n",
    "\n",
    "# Separate back into Y and X data.\n",
    "Y_data = data.iloc[:, 53:67]\n",
    "X_data = data.iloc[:, 1:53]"
   ]
  },
  {
   "cell_type": "code",
   "execution_count": 63,
   "metadata": {},
   "outputs": [
    {
     "data": {
      "text/html": [
       "<div>\n",
       "<style scoped>\n",
       "    .dataframe tbody tr th:only-of-type {\n",
       "        vertical-align: middle;\n",
       "    }\n",
       "\n",
       "    .dataframe tbody tr th {\n",
       "        vertical-align: top;\n",
       "    }\n",
       "\n",
       "    .dataframe thead th {\n",
       "        text-align: right;\n",
       "    }\n",
       "</style>\n",
       "<table border=\"1\" class=\"dataframe\">\n",
       "  <thead>\n",
       "    <tr style=\"text-align: right;\">\n",
       "      <th></th>\n",
       "      <th>size</th>\n",
       "      <th>likelihood</th>\n",
       "      <th>type</th>\n",
       "      <th>atl</th>\n",
       "      <th>ntl</th>\n",
       "      <th>btl</th>\n",
       "      <th>N</th>\n",
       "      <th>NE</th>\n",
       "      <th>E</th>\n",
       "      <th>SE</th>\n",
       "      <th>S</th>\n",
       "      <th>SW</th>\n",
       "      <th>W</th>\n",
       "      <th>NW</th>\n",
       "    </tr>\n",
       "  </thead>\n",
       "  <tbody>\n",
       "    <tr>\n",
       "      <th>0</th>\n",
       "      <td>2</td>\n",
       "      <td>3</td>\n",
       "      <td>1</td>\n",
       "      <td>3</td>\n",
       "      <td>3</td>\n",
       "      <td>2</td>\n",
       "      <td>1</td>\n",
       "      <td>1</td>\n",
       "      <td>1</td>\n",
       "      <td>1</td>\n",
       "      <td>0</td>\n",
       "      <td>0</td>\n",
       "      <td>0</td>\n",
       "      <td>1</td>\n",
       "    </tr>\n",
       "    <tr>\n",
       "      <th>1</th>\n",
       "      <td>1</td>\n",
       "      <td>1</td>\n",
       "      <td>1</td>\n",
       "      <td>1</td>\n",
       "      <td>1</td>\n",
       "      <td>0</td>\n",
       "      <td>1</td>\n",
       "      <td>1</td>\n",
       "      <td>1</td>\n",
       "      <td>1</td>\n",
       "      <td>0</td>\n",
       "      <td>0</td>\n",
       "      <td>0</td>\n",
       "      <td>1</td>\n",
       "    </tr>\n",
       "    <tr>\n",
       "      <th>2</th>\n",
       "      <td>1</td>\n",
       "      <td>2</td>\n",
       "      <td>1</td>\n",
       "      <td>2</td>\n",
       "      <td>2</td>\n",
       "      <td>2</td>\n",
       "      <td>1</td>\n",
       "      <td>1</td>\n",
       "      <td>1</td>\n",
       "      <td>1</td>\n",
       "      <td>0</td>\n",
       "      <td>0</td>\n",
       "      <td>0</td>\n",
       "      <td>1</td>\n",
       "    </tr>\n",
       "    <tr>\n",
       "      <th>3</th>\n",
       "      <td>1</td>\n",
       "      <td>1</td>\n",
       "      <td>1</td>\n",
       "      <td>1</td>\n",
       "      <td>1</td>\n",
       "      <td>1</td>\n",
       "      <td>1</td>\n",
       "      <td>1</td>\n",
       "      <td>1</td>\n",
       "      <td>1</td>\n",
       "      <td>0</td>\n",
       "      <td>0</td>\n",
       "      <td>0</td>\n",
       "      <td>1</td>\n",
       "    </tr>\n",
       "    <tr>\n",
       "      <th>4</th>\n",
       "      <td>1</td>\n",
       "      <td>1</td>\n",
       "      <td>5</td>\n",
       "      <td>1</td>\n",
       "      <td>1</td>\n",
       "      <td>1</td>\n",
       "      <td>1</td>\n",
       "      <td>1</td>\n",
       "      <td>1</td>\n",
       "      <td>1</td>\n",
       "      <td>0</td>\n",
       "      <td>0</td>\n",
       "      <td>0</td>\n",
       "      <td>1</td>\n",
       "    </tr>\n",
       "  </tbody>\n",
       "</table>\n",
       "</div>"
      ],
      "text/plain": [
       "   size  likelihood  type  atl  ntl  btl  N  NE  E  SE  S  SW  W  NW\n",
       "0     2           3     1    3    3    2  1   1  1   1  0   0  0   1\n",
       "1     1           1     1    1    1    0  1   1  1   1  0   0  0   1\n",
       "2     1           2     1    2    2    2  1   1  1   1  0   0  0   1\n",
       "3     1           1     1    1    1    1  1   1  1   1  0   0  0   1\n",
       "4     1           1     5    1    1    1  1   1  1   1  0   0  0   1"
      ]
     },
     "execution_count": 63,
     "metadata": {},
     "output_type": "execute_result"
    }
   ],
   "source": [
    "Y_data.head()"
   ]
  },
  {
   "cell_type": "code",
   "execution_count": 64,
   "metadata": {},
   "outputs": [
    {
     "data": {
      "text/html": [
       "<div>\n",
       "<style scoped>\n",
       "    .dataframe tbody tr th:only-of-type {\n",
       "        vertical-align: middle;\n",
       "    }\n",
       "\n",
       "    .dataframe tbody tr th {\n",
       "        vertical-align: top;\n",
       "    }\n",
       "\n",
       "    .dataframe thead th {\n",
       "        text-align: right;\n",
       "    }\n",
       "</style>\n",
       "<table border=\"1\" class=\"dataframe\">\n",
       "  <thead>\n",
       "    <tr style=\"text-align: right;\">\n",
       "      <th></th>\n",
       "      <th>weasd</th>\n",
       "      <th>air</th>\n",
       "      <th>albedo</th>\n",
       "      <th>lftx4</th>\n",
       "      <th>cfrzr</th>\n",
       "      <th>cicep</th>\n",
       "      <th>crain</th>\n",
       "      <th>csnow</th>\n",
       "      <th>cdcon</th>\n",
       "      <th>acpcp</th>\n",
       "      <th>...</th>\n",
       "      <th>vstm</th>\n",
       "      <th>vwnd</th>\n",
       "      <th>wcinc</th>\n",
       "      <th>wcconv</th>\n",
       "      <th>wcvflx</th>\n",
       "      <th>wcuflx</th>\n",
       "      <th>wvinc</th>\n",
       "      <th>wvconv</th>\n",
       "      <th>wvvflx</th>\n",
       "      <th>wvuflx</th>\n",
       "    </tr>\n",
       "  </thead>\n",
       "  <tbody>\n",
       "    <tr>\n",
       "      <th>0</th>\n",
       "      <td>3.462348</td>\n",
       "      <td>275.196591</td>\n",
       "      <td>20.293056</td>\n",
       "      <td>1.818175</td>\n",
       "      <td>0.0</td>\n",
       "      <td>0.0</td>\n",
       "      <td>0.263889</td>\n",
       "      <td>0.541667</td>\n",
       "      <td>34.763889</td>\n",
       "      <td>1.502604</td>\n",
       "      <td>...</td>\n",
       "      <td>6.230269</td>\n",
       "      <td>4.795019</td>\n",
       "      <td>0.368141</td>\n",
       "      <td>0.426346</td>\n",
       "      <td>82339.744667</td>\n",
       "      <td>73290.042889</td>\n",
       "      <td>1.154290</td>\n",
       "      <td>0.715487</td>\n",
       "      <td>1.047864e+06</td>\n",
       "      <td>719503.900000</td>\n",
       "    </tr>\n",
       "    <tr>\n",
       "      <th>1</th>\n",
       "      <td>15.962565</td>\n",
       "      <td>273.186932</td>\n",
       "      <td>35.004167</td>\n",
       "      <td>3.374641</td>\n",
       "      <td>0.0</td>\n",
       "      <td>0.0</td>\n",
       "      <td>0.194444</td>\n",
       "      <td>0.486111</td>\n",
       "      <td>12.958333</td>\n",
       "      <td>0.059028</td>\n",
       "      <td>...</td>\n",
       "      <td>-10.865753</td>\n",
       "      <td>0.306765</td>\n",
       "      <td>0.075161</td>\n",
       "      <td>-0.135596</td>\n",
       "      <td>-17681.848667</td>\n",
       "      <td>48968.488889</td>\n",
       "      <td>0.142669</td>\n",
       "      <td>-0.465670</td>\n",
       "      <td>-2.757419e+05</td>\n",
       "      <td>766487.877778</td>\n",
       "    </tr>\n",
       "    <tr>\n",
       "      <th>2</th>\n",
       "      <td>18.088976</td>\n",
       "      <td>270.526612</td>\n",
       "      <td>35.952778</td>\n",
       "      <td>3.140869</td>\n",
       "      <td>0.0</td>\n",
       "      <td>0.0</td>\n",
       "      <td>0.083333</td>\n",
       "      <td>0.375000</td>\n",
       "      <td>32.638889</td>\n",
       "      <td>1.087674</td>\n",
       "      <td>...</td>\n",
       "      <td>-11.011229</td>\n",
       "      <td>2.793661</td>\n",
       "      <td>-0.033226</td>\n",
       "      <td>0.275993</td>\n",
       "      <td>1473.177264</td>\n",
       "      <td>62574.111667</td>\n",
       "      <td>0.013199</td>\n",
       "      <td>0.921517</td>\n",
       "      <td>-4.299622e+03</td>\n",
       "      <td>926458.622222</td>\n",
       "    </tr>\n",
       "    <tr>\n",
       "      <th>3</th>\n",
       "      <td>22.829102</td>\n",
       "      <td>268.677762</td>\n",
       "      <td>35.254167</td>\n",
       "      <td>5.315925</td>\n",
       "      <td>0.0</td>\n",
       "      <td>0.0</td>\n",
       "      <td>0.013889</td>\n",
       "      <td>0.305556</td>\n",
       "      <td>14.583333</td>\n",
       "      <td>0.326389</td>\n",
       "      <td>...</td>\n",
       "      <td>-19.357874</td>\n",
       "      <td>-0.505963</td>\n",
       "      <td>0.065596</td>\n",
       "      <td>-0.183372</td>\n",
       "      <td>-21280.395333</td>\n",
       "      <td>30643.284444</td>\n",
       "      <td>0.501735</td>\n",
       "      <td>-1.024022</td>\n",
       "      <td>-3.478883e+05</td>\n",
       "      <td>423369.244444</td>\n",
       "    </tr>\n",
       "    <tr>\n",
       "      <th>4</th>\n",
       "      <td>22.464518</td>\n",
       "      <td>267.055167</td>\n",
       "      <td>35.647223</td>\n",
       "      <td>9.787543</td>\n",
       "      <td>0.0</td>\n",
       "      <td>0.0</td>\n",
       "      <td>0.000000</td>\n",
       "      <td>0.069444</td>\n",
       "      <td>0.000000</td>\n",
       "      <td>0.000000</td>\n",
       "      <td>...</td>\n",
       "      <td>-15.446493</td>\n",
       "      <td>1.451025</td>\n",
       "      <td>-0.000070</td>\n",
       "      <td>0.032900</td>\n",
       "      <td>-13023.525778</td>\n",
       "      <td>35952.103111</td>\n",
       "      <td>0.003099</td>\n",
       "      <td>-0.292874</td>\n",
       "      <td>-2.029971e+05</td>\n",
       "      <td>500196.133333</td>\n",
       "    </tr>\n",
       "  </tbody>\n",
       "</table>\n",
       "<p>5 rows × 52 columns</p>\n",
       "</div>"
      ],
      "text/plain": [
       "       weasd         air     albedo     lftx4  cfrzr  cicep     crain  \\\n",
       "0   3.462348  275.196591  20.293056  1.818175    0.0    0.0  0.263889   \n",
       "1  15.962565  273.186932  35.004167  3.374641    0.0    0.0  0.194444   \n",
       "2  18.088976  270.526612  35.952778  3.140869    0.0    0.0  0.083333   \n",
       "3  22.829102  268.677762  35.254167  5.315925    0.0    0.0  0.013889   \n",
       "4  22.464518  267.055167  35.647223  9.787543    0.0    0.0  0.000000   \n",
       "\n",
       "      csnow      cdcon     acpcp  ...       vstm      vwnd     wcinc  \\\n",
       "0  0.541667  34.763889  1.502604  ...   6.230269  4.795019  0.368141   \n",
       "1  0.486111  12.958333  0.059028  ... -10.865753  0.306765  0.075161   \n",
       "2  0.375000  32.638889  1.087674  ... -11.011229  2.793661 -0.033226   \n",
       "3  0.305556  14.583333  0.326389  ... -19.357874 -0.505963  0.065596   \n",
       "4  0.069444   0.000000  0.000000  ... -15.446493  1.451025 -0.000070   \n",
       "\n",
       "     wcconv        wcvflx        wcuflx     wvinc    wvconv        wvvflx  \\\n",
       "0  0.426346  82339.744667  73290.042889  1.154290  0.715487  1.047864e+06   \n",
       "1 -0.135596 -17681.848667  48968.488889  0.142669 -0.465670 -2.757419e+05   \n",
       "2  0.275993   1473.177264  62574.111667  0.013199  0.921517 -4.299622e+03   \n",
       "3 -0.183372 -21280.395333  30643.284444  0.501735 -1.024022 -3.478883e+05   \n",
       "4  0.032900 -13023.525778  35952.103111  0.003099 -0.292874 -2.029971e+05   \n",
       "\n",
       "          wvuflx  \n",
       "0  719503.900000  \n",
       "1  766487.877778  \n",
       "2  926458.622222  \n",
       "3  423369.244444  \n",
       "4  500196.133333  \n",
       "\n",
       "[5 rows x 52 columns]"
      ]
     },
     "execution_count": 64,
     "metadata": {},
     "output_type": "execute_result"
    }
   ],
   "source": [
    "X_data.head()"
   ]
  },
  {
   "cell_type": "code",
   "execution_count": 65,
   "metadata": {},
   "outputs": [
    {
     "data": {
      "text/html": [
       "<div>\n",
       "<style scoped>\n",
       "    .dataframe tbody tr th:only-of-type {\n",
       "        vertical-align: middle;\n",
       "    }\n",
       "\n",
       "    .dataframe tbody tr th {\n",
       "        vertical-align: top;\n",
       "    }\n",
       "\n",
       "    .dataframe thead th {\n",
       "        text-align: right;\n",
       "    }\n",
       "</style>\n",
       "<table border=\"1\" class=\"dataframe\">\n",
       "  <thead>\n",
       "    <tr style=\"text-align: right;\">\n",
       "      <th></th>\n",
       "      <th>weasd</th>\n",
       "      <th>air</th>\n",
       "      <th>albedo</th>\n",
       "      <th>lftx4</th>\n",
       "      <th>cfrzr</th>\n",
       "      <th>cicep</th>\n",
       "      <th>crain</th>\n",
       "      <th>csnow</th>\n",
       "      <th>cdcon</th>\n",
       "      <th>acpcp</th>\n",
       "      <th>...</th>\n",
       "      <th>vstm</th>\n",
       "      <th>vwnd</th>\n",
       "      <th>wcinc</th>\n",
       "      <th>wcconv</th>\n",
       "      <th>wcvflx</th>\n",
       "      <th>wcuflx</th>\n",
       "      <th>wvinc</th>\n",
       "      <th>wvconv</th>\n",
       "      <th>wvvflx</th>\n",
       "      <th>wvuflx</th>\n",
       "    </tr>\n",
       "  </thead>\n",
       "  <tbody>\n",
       "    <tr>\n",
       "      <th>0</th>\n",
       "      <td>-1.112741</td>\n",
       "      <td>0.431778</td>\n",
       "      <td>-1.048367</td>\n",
       "      <td>-1.385287</td>\n",
       "      <td>0.0</td>\n",
       "      <td>-0.178981</td>\n",
       "      <td>1.475401</td>\n",
       "      <td>1.333716</td>\n",
       "      <td>1.734011</td>\n",
       "      <td>1.477702</td>\n",
       "      <td>...</td>\n",
       "      <td>0.874114</td>\n",
       "      <td>0.826359</td>\n",
       "      <td>1.370362</td>\n",
       "      <td>1.129613</td>\n",
       "      <td>1.540871</td>\n",
       "      <td>0.935115</td>\n",
       "      <td>1.362094</td>\n",
       "      <td>1.075823</td>\n",
       "      <td>1.105632</td>\n",
       "      <td>0.264083</td>\n",
       "    </tr>\n",
       "    <tr>\n",
       "      <th>1</th>\n",
       "      <td>-0.419734</td>\n",
       "      <td>-0.082726</td>\n",
       "      <td>0.933026</td>\n",
       "      <td>-0.582834</td>\n",
       "      <td>0.0</td>\n",
       "      <td>-0.178981</td>\n",
       "      <td>0.924992</td>\n",
       "      <td>1.113469</td>\n",
       "      <td>0.290258</td>\n",
       "      <td>-0.363503</td>\n",
       "      <td>...</td>\n",
       "      <td>-0.622979</td>\n",
       "      <td>-0.634655</td>\n",
       "      <td>-0.085734</td>\n",
       "      <td>-1.230877</td>\n",
       "      <td>-0.900512</td>\n",
       "      <td>0.305563</td>\n",
       "      <td>-0.230936</td>\n",
       "      <td>-0.798989</td>\n",
       "      <td>-0.817469</td>\n",
       "      <td>0.351993</td>\n",
       "    </tr>\n",
       "    <tr>\n",
       "      <th>2</th>\n",
       "      <td>-0.301847</td>\n",
       "      <td>-0.763809</td>\n",
       "      <td>1.060791</td>\n",
       "      <td>-0.703358</td>\n",
       "      <td>0.0</td>\n",
       "      <td>-0.178981</td>\n",
       "      <td>0.044338</td>\n",
       "      <td>0.672976</td>\n",
       "      <td>1.593314</td>\n",
       "      <td>0.948481</td>\n",
       "      <td>...</td>\n",
       "      <td>-0.635718</td>\n",
       "      <td>0.174878</td>\n",
       "      <td>-0.624414</td>\n",
       "      <td>0.498041</td>\n",
       "      <td>-0.432965</td>\n",
       "      <td>0.657738</td>\n",
       "      <td>-0.434816</td>\n",
       "      <td>1.402847</td>\n",
       "      <td>-0.423083</td>\n",
       "      <td>0.651311</td>\n",
       "    </tr>\n",
       "    <tr>\n",
       "      <th>3</th>\n",
       "      <td>-0.039056</td>\n",
       "      <td>-1.237143</td>\n",
       "      <td>0.966698</td>\n",
       "      <td>0.418016</td>\n",
       "      <td>0.0</td>\n",
       "      <td>-0.178981</td>\n",
       "      <td>-0.506070</td>\n",
       "      <td>0.397668</td>\n",
       "      <td>0.397849</td>\n",
       "      <td>-0.022498</td>\n",
       "      <td>...</td>\n",
       "      <td>-1.366631</td>\n",
       "      <td>-0.899214</td>\n",
       "      <td>-0.133273</td>\n",
       "      <td>-1.431566</td>\n",
       "      <td>-0.988347</td>\n",
       "      <td>-0.168776</td>\n",
       "      <td>0.334497</td>\n",
       "      <td>-1.685243</td>\n",
       "      <td>-0.922292</td>\n",
       "      <td>-0.290008</td>\n",
       "    </tr>\n",
       "    <tr>\n",
       "      <th>4</th>\n",
       "      <td>-0.059268</td>\n",
       "      <td>-1.652552</td>\n",
       "      <td>1.019637</td>\n",
       "      <td>2.723406</td>\n",
       "      <td>0.0</td>\n",
       "      <td>-0.178981</td>\n",
       "      <td>-0.616152</td>\n",
       "      <td>-0.538381</td>\n",
       "      <td>-0.567718</td>\n",
       "      <td>-0.438789</td>\n",
       "      <td>...</td>\n",
       "      <td>-1.024113</td>\n",
       "      <td>-0.262176</td>\n",
       "      <td>-0.459630</td>\n",
       "      <td>-0.523094</td>\n",
       "      <td>-0.786809</td>\n",
       "      <td>-0.031360</td>\n",
       "      <td>-0.450721</td>\n",
       "      <td>-0.524715</td>\n",
       "      <td>-0.711776</td>\n",
       "      <td>-0.146259</td>\n",
       "    </tr>\n",
       "  </tbody>\n",
       "</table>\n",
       "<p>5 rows × 52 columns</p>\n",
       "</div>"
      ],
      "text/plain": [
       "      weasd       air    albedo     lftx4  cfrzr     cicep     crain  \\\n",
       "0 -1.112741  0.431778 -1.048367 -1.385287    0.0 -0.178981  1.475401   \n",
       "1 -0.419734 -0.082726  0.933026 -0.582834    0.0 -0.178981  0.924992   \n",
       "2 -0.301847 -0.763809  1.060791 -0.703358    0.0 -0.178981  0.044338   \n",
       "3 -0.039056 -1.237143  0.966698  0.418016    0.0 -0.178981 -0.506070   \n",
       "4 -0.059268 -1.652552  1.019637  2.723406    0.0 -0.178981 -0.616152   \n",
       "\n",
       "      csnow     cdcon     acpcp  ...      vstm      vwnd     wcinc    wcconv  \\\n",
       "0  1.333716  1.734011  1.477702  ...  0.874114  0.826359  1.370362  1.129613   \n",
       "1  1.113469  0.290258 -0.363503  ... -0.622979 -0.634655 -0.085734 -1.230877   \n",
       "2  0.672976  1.593314  0.948481  ... -0.635718  0.174878 -0.624414  0.498041   \n",
       "3  0.397668  0.397849 -0.022498  ... -1.366631 -0.899214 -0.133273 -1.431566   \n",
       "4 -0.538381 -0.567718 -0.438789  ... -1.024113 -0.262176 -0.459630 -0.523094   \n",
       "\n",
       "     wcvflx    wcuflx     wvinc    wvconv    wvvflx    wvuflx  \n",
       "0  1.540871  0.935115  1.362094  1.075823  1.105632  0.264083  \n",
       "1 -0.900512  0.305563 -0.230936 -0.798989 -0.817469  0.351993  \n",
       "2 -0.432965  0.657738 -0.434816  1.402847 -0.423083  0.651311  \n",
       "3 -0.988347 -0.168776  0.334497 -1.685243 -0.922292 -0.290008  \n",
       "4 -0.786809 -0.031360 -0.450721 -0.524715 -0.711776 -0.146259  \n",
       "\n",
       "[5 rows x 52 columns]"
      ]
     },
     "execution_count": 65,
     "metadata": {},
     "output_type": "execute_result"
    }
   ],
   "source": [
    "# Copy the data over to new df.\n",
    "X_scaled = X_data.copy()\n",
    "X_scaled = X_scaled.fillna(0)\n",
    "\n",
    "# Normalize our features.\n",
    "for column in X_scaled.columns:\n",
    "    X_scaled[column] = (X_scaled[column] - \n",
    "                        X_scaled[column].mean()) / X_scaled[column].std()    \n",
    "\n",
    "X_scaled = X_scaled.fillna(0)\n",
    "X_scaled.head()"
   ]
  },
  {
   "cell_type": "code",
   "execution_count": 66,
   "metadata": {},
   "outputs": [],
   "source": [
    "# Split data into training and testing subsets.\n",
    "X_train, X_test, y_train, y_test = train_test_split(X_scaled, Y_data, test_size=0.30)"
   ]
  },
  {
   "attachments": {},
   "cell_type": "markdown",
   "metadata": {},
   "source": [
    "## Generate SVM OneVsRest Models"
   ]
  },
  {
   "attachments": {},
   "cell_type": "markdown",
   "metadata": {},
   "source": [
    "### Size"
   ]
  },
  {
   "cell_type": "code",
   "execution_count": 67,
   "metadata": {},
   "outputs": [
    {
     "data": {
      "text/plain": [
       "array([2, 1, 1, 1, 1, 2, 1, 1, 1, 1, 1, 1, 2, 1, 2, 1, 1, 1, 1, 2, 1, 1,\n",
       "       1, 1, 1, 1, 1, 1, 1, 1, 1, 1, 1, 1, 1, 1, 1, 1, 1, 1, 1, 1, 1, 1])"
      ]
     },
     "execution_count": 67,
     "metadata": {},
     "output_type": "execute_result"
    }
   ],
   "source": [
    "# Isolate size feature and generate model.\n",
    "y_size = y_train['size']\n",
    "size_model = svm.SVC()\n",
    "size_ovr = OneVsRestClassifier(size_model).fit(X_train, y_size)\n",
    "size_preds = size_ovr.predict(X_test)\n",
    "size_preds"
   ]
  },
  {
   "cell_type": "code",
   "execution_count": 68,
   "metadata": {},
   "outputs": [
    {
     "data": {
      "text/plain": [
       "0.5909090909090909"
      ]
     },
     "execution_count": 68,
     "metadata": {},
     "output_type": "execute_result"
    }
   ],
   "source": [
    "# Calculate accuracy with y_test.\n",
    "accuracy_score(y_test['size'], size_preds)\n"
   ]
  },
  {
   "attachments": {},
   "cell_type": "markdown",
   "metadata": {},
   "source": [
    "### Likelihood"
   ]
  },
  {
   "cell_type": "code",
   "execution_count": 69,
   "metadata": {},
   "outputs": [
    {
     "data": {
      "text/plain": [
       "array([2, 1, 1, 1, 1, 3, 1, 1, 1, 1, 1, 1, 3, 1, 2, 1, 1, 1, 1, 2, 1, 1,\n",
       "       1, 1, 1, 1, 2, 1, 2, 1, 1, 1, 1, 1, 2, 1, 1, 1, 1, 1, 1, 1, 1, 1])"
      ]
     },
     "execution_count": 69,
     "metadata": {},
     "output_type": "execute_result"
    }
   ],
   "source": [
    "# Isolate likelihood feature and generate model.\n",
    "y_likelihood = y_train['likelihood']\n",
    "likelihood_model = svm.SVC()\n",
    "likelihood_ovr = OneVsRestClassifier(likelihood_model).fit(X_train, y_likelihood)\n",
    "likelihood_preds = likelihood_ovr.predict(X_test)\n",
    "likelihood_preds"
   ]
  },
  {
   "cell_type": "code",
   "execution_count": 70,
   "metadata": {},
   "outputs": [
    {
     "data": {
      "text/plain": [
       "0.5227272727272727"
      ]
     },
     "execution_count": 70,
     "metadata": {},
     "output_type": "execute_result"
    }
   ],
   "source": [
    "# Calculate accuracy with y_test.\n",
    "accuracy_score(y_test['likelihood'], likelihood_preds)"
   ]
  },
  {
   "attachments": {},
   "cell_type": "markdown",
   "metadata": {},
   "source": [
    "### Problem Type"
   ]
  },
  {
   "cell_type": "code",
   "execution_count": 71,
   "metadata": {},
   "outputs": [
    {
     "data": {
      "text/plain": [
       "array([1, 1, 1, 1, 3, 1, 1, 1, 3, 3, 1, 1, 1, 1, 1, 1, 1, 1, 1, 1, 3, 3,\n",
       "       1, 3, 1, 3, 1, 1, 1, 1, 1, 1, 1, 1, 1, 3, 1, 1, 1, 3, 3, 1, 1, 1])"
      ]
     },
     "execution_count": 71,
     "metadata": {},
     "output_type": "execute_result"
    }
   ],
   "source": [
    "# Isolate problem type feature and generate model.\n",
    "y_type = y_train['type']\n",
    "type_model = svm.SVC()\n",
    "type_ovr = OneVsRestClassifier(type_model).fit(X_train, y_type)\n",
    "type_preds = type_ovr.predict(X_test)\n",
    "type_preds"
   ]
  },
  {
   "cell_type": "code",
   "execution_count": 72,
   "metadata": {},
   "outputs": [
    {
     "data": {
      "text/plain": [
       "0.8181818181818182"
      ]
     },
     "execution_count": 72,
     "metadata": {},
     "output_type": "execute_result"
    }
   ],
   "source": [
    "# Calculate accuracy with y_test.\n",
    "accuracy_score(y_test['type'], type_preds)"
   ]
  },
  {
   "attachments": {},
   "cell_type": "markdown",
   "metadata": {},
   "source": [
    "### Above Treeline Risk"
   ]
  },
  {
   "cell_type": "code",
   "execution_count": 73,
   "metadata": {},
   "outputs": [
    {
     "data": {
      "text/plain": [
       "array([2, 1, 1, 1, 1, 3, 1, 1, 1, 1, 1, 1, 3, 1, 3, 1, 1, 1, 1, 2, 1, 1,\n",
       "       1, 1, 1, 1, 2, 1, 2, 1, 1, 1, 1, 1, 2, 1, 1, 1, 1, 1, 1, 1, 3, 1])"
      ]
     },
     "execution_count": 73,
     "metadata": {},
     "output_type": "execute_result"
    }
   ],
   "source": [
    "# Isolate atl feature and generate model.\n",
    "y_atl = y_train['atl']\n",
    "atl_model = svm.SVC()\n",
    "atl_ovr = OneVsRestClassifier(atl_model).fit(X_train, y_atl)\n",
    "atl_preds = atl_ovr.predict(X_test)\n",
    "atl_preds"
   ]
  },
  {
   "cell_type": "code",
   "execution_count": 74,
   "metadata": {},
   "outputs": [
    {
     "data": {
      "text/plain": [
       "0.5909090909090909"
      ]
     },
     "execution_count": 74,
     "metadata": {},
     "output_type": "execute_result"
    }
   ],
   "source": [
    "# Calculate accuracy with y_test.\n",
    "accuracy_score(y_test['atl'], atl_preds)"
   ]
  },
  {
   "attachments": {},
   "cell_type": "markdown",
   "metadata": {},
   "source": [
    "### Near Treeline Risk"
   ]
  },
  {
   "cell_type": "code",
   "execution_count": 75,
   "metadata": {},
   "outputs": [
    {
     "data": {
      "text/plain": [
       "array([2, 1, 1, 1, 1, 3, 1, 1, 1, 1, 1, 1, 3, 1, 3, 1, 1, 1, 1, 2, 1, 1,\n",
       "       1, 1, 1, 1, 2, 1, 2, 1, 1, 1, 1, 1, 2, 1, 1, 1, 1, 1, 1, 1, 3, 1])"
      ]
     },
     "execution_count": 75,
     "metadata": {},
     "output_type": "execute_result"
    }
   ],
   "source": [
    "# Isolate ntl feature and generate model.\n",
    "y_ntl = y_train['ntl']\n",
    "ntl_model = svm.SVC()\n",
    "ntl_ovr = OneVsRestClassifier(ntl_model).fit(X_train, y_ntl)\n",
    "ntl_preds = ntl_ovr.predict(X_test)\n",
    "ntl_preds"
   ]
  },
  {
   "cell_type": "code",
   "execution_count": 76,
   "metadata": {},
   "outputs": [
    {
     "data": {
      "text/plain": [
       "0.5909090909090909"
      ]
     },
     "execution_count": 76,
     "metadata": {},
     "output_type": "execute_result"
    }
   ],
   "source": [
    "# Calculate accuracy with y_test.\n",
    "accuracy_score(y_test['ntl'], ntl_preds)"
   ]
  },
  {
   "attachments": {},
   "cell_type": "markdown",
   "metadata": {},
   "source": [
    "### Below Treeline Risk"
   ]
  },
  {
   "cell_type": "code",
   "execution_count": 77,
   "metadata": {},
   "outputs": [
    {
     "data": {
      "text/plain": [
       "array([1, 1, 0, 2, 0, 3, 1, 0, 1, 1, 1, 1, 1, 1, 2, 1, 1, 0, 1, 1, 1, 1,\n",
       "       1, 1, 0, 1, 1, 1, 1, 0, 0, 0, 0, 0, 1, 1, 3, 1, 0, 1, 0, 3, 1, 3])"
      ]
     },
     "execution_count": 77,
     "metadata": {},
     "output_type": "execute_result"
    }
   ],
   "source": [
    "# Isolate atl feature and generate model.\n",
    "y_btl = y_train['btl']\n",
    "btl_model = svm.SVC()\n",
    "btl_ovr = OneVsRestClassifier(btl_model).fit(X_train, y_btl)\n",
    "btl_preds = btl_ovr.predict(X_test)\n",
    "btl_preds"
   ]
  },
  {
   "cell_type": "code",
   "execution_count": 78,
   "metadata": {},
   "outputs": [
    {
     "data": {
      "text/plain": [
       "0.6818181818181818"
      ]
     },
     "execution_count": 78,
     "metadata": {},
     "output_type": "execute_result"
    }
   ],
   "source": [
    "# Calculate accuracy with y_test.\n",
    "accuracy_score(y_test['btl'], btl_preds)"
   ]
  },
  {
   "attachments": {},
   "cell_type": "markdown",
   "metadata": {},
   "source": [
    "### Aspect"
   ]
  },
  {
   "cell_type": "code",
   "execution_count": 79,
   "metadata": {},
   "outputs": [
    {
     "data": {
      "text/html": [
       "<div>\n",
       "<style scoped>\n",
       "    .dataframe tbody tr th:only-of-type {\n",
       "        vertical-align: middle;\n",
       "    }\n",
       "\n",
       "    .dataframe tbody tr th {\n",
       "        vertical-align: top;\n",
       "    }\n",
       "\n",
       "    .dataframe thead th {\n",
       "        text-align: right;\n",
       "    }\n",
       "</style>\n",
       "<table border=\"1\" class=\"dataframe\">\n",
       "  <thead>\n",
       "    <tr style=\"text-align: right;\">\n",
       "      <th></th>\n",
       "      <th>size</th>\n",
       "      <th>likelihood</th>\n",
       "      <th>type</th>\n",
       "      <th>atl</th>\n",
       "      <th>ntl</th>\n",
       "      <th>btl</th>\n",
       "      <th>N</th>\n",
       "      <th>NE</th>\n",
       "      <th>E</th>\n",
       "      <th>SE</th>\n",
       "      <th>S</th>\n",
       "      <th>SW</th>\n",
       "      <th>W</th>\n",
       "      <th>NW</th>\n",
       "    </tr>\n",
       "  </thead>\n",
       "  <tbody>\n",
       "    <tr>\n",
       "      <th>96</th>\n",
       "      <td>1</td>\n",
       "      <td>1</td>\n",
       "      <td>1</td>\n",
       "      <td>1</td>\n",
       "      <td>1</td>\n",
       "      <td>1</td>\n",
       "      <td>1</td>\n",
       "      <td>1</td>\n",
       "      <td>1</td>\n",
       "      <td>1</td>\n",
       "      <td>0</td>\n",
       "      <td>0</td>\n",
       "      <td>1</td>\n",
       "      <td>1</td>\n",
       "    </tr>\n",
       "    <tr>\n",
       "      <th>58</th>\n",
       "      <td>1</td>\n",
       "      <td>1</td>\n",
       "      <td>1</td>\n",
       "      <td>1</td>\n",
       "      <td>1</td>\n",
       "      <td>0</td>\n",
       "      <td>1</td>\n",
       "      <td>1</td>\n",
       "      <td>1</td>\n",
       "      <td>1</td>\n",
       "      <td>0</td>\n",
       "      <td>0</td>\n",
       "      <td>0</td>\n",
       "      <td>1</td>\n",
       "    </tr>\n",
       "    <tr>\n",
       "      <th>49</th>\n",
       "      <td>1</td>\n",
       "      <td>1</td>\n",
       "      <td>1</td>\n",
       "      <td>1</td>\n",
       "      <td>1</td>\n",
       "      <td>0</td>\n",
       "      <td>1</td>\n",
       "      <td>1</td>\n",
       "      <td>1</td>\n",
       "      <td>1</td>\n",
       "      <td>1</td>\n",
       "      <td>1</td>\n",
       "      <td>1</td>\n",
       "      <td>1</td>\n",
       "    </tr>\n",
       "    <tr>\n",
       "      <th>56</th>\n",
       "      <td>0</td>\n",
       "      <td>0</td>\n",
       "      <td>0</td>\n",
       "      <td>0</td>\n",
       "      <td>0</td>\n",
       "      <td>0</td>\n",
       "      <td>1</td>\n",
       "      <td>1</td>\n",
       "      <td>1</td>\n",
       "      <td>1</td>\n",
       "      <td>1</td>\n",
       "      <td>1</td>\n",
       "      <td>1</td>\n",
       "      <td>1</td>\n",
       "    </tr>\n",
       "    <tr>\n",
       "      <th>77</th>\n",
       "      <td>2</td>\n",
       "      <td>2</td>\n",
       "      <td>1</td>\n",
       "      <td>2</td>\n",
       "      <td>2</td>\n",
       "      <td>1</td>\n",
       "      <td>1</td>\n",
       "      <td>1</td>\n",
       "      <td>1</td>\n",
       "      <td>1</td>\n",
       "      <td>1</td>\n",
       "      <td>0</td>\n",
       "      <td>0</td>\n",
       "      <td>1</td>\n",
       "    </tr>\n",
       "  </tbody>\n",
       "</table>\n",
       "</div>"
      ],
      "text/plain": [
       "    size  likelihood  type  atl  ntl  btl  N  NE  E  SE  S  SW  W  NW\n",
       "96     1           1     1    1    1    1  1   1  1   1  0   0  1   1\n",
       "58     1           1     1    1    1    0  1   1  1   1  0   0  0   1\n",
       "49     1           1     1    1    1    0  1   1  1   1  1   1  1   1\n",
       "56     0           0     0    0    0    0  1   1  1   1  1   1  1   1\n",
       "77     2           2     1    2    2    1  1   1  1   1  1   0  0   1"
      ]
     },
     "execution_count": 79,
     "metadata": {},
     "output_type": "execute_result"
    }
   ],
   "source": [
    "y_train.head()"
   ]
  },
  {
   "cell_type": "code",
   "execution_count": 80,
   "metadata": {},
   "outputs": [],
   "source": [
    "aspect = ['N', 'NE', 'E', 'SE', 'S', 'SW', 'W', 'NW']"
   ]
  },
  {
   "cell_type": "code",
   "execution_count": 81,
   "metadata": {},
   "outputs": [
    {
     "name": "stdout",
     "output_type": "stream",
     "text": [
      "N:  0.9318181818181818\n",
      "NE:  0.9318181818181818\n",
      "E:  0.9772727272727273\n",
      "SE:  0.9545454545454546\n",
      "S:  0.7954545454545454\n",
      "SW:  0.7954545454545454\n",
      "W:  0.7727272727272727\n",
      "NW:  0.9545454545454546\n"
     ]
    }
   ],
   "source": [
    "# Format test set.\n",
    "y_train_asp = y_train.iloc[:, 6:14]\n",
    "y_test_asp = y_test.iloc[:, 6:14]\n",
    "\n",
    "for feature in aspect:\n",
    "    model = svm.SVC()\n",
    "    model.fit(X_train, y_train_asp[feature])\n",
    "    preds = model.predict(X_test)\n",
    "    score = accuracy_score(y_test[feature], preds)\n",
    "    print(feature + \": \", score)"
   ]
  }
 ],
 "metadata": {
  "kernelspec": {
   "display_name": "base",
   "language": "python",
   "name": "python3"
  },
  "language_info": {
   "codemirror_mode": {
    "name": "ipython",
    "version": 3
   },
   "file_extension": ".py",
   "mimetype": "text/x-python",
   "name": "python",
   "nbconvert_exporter": "python",
   "pygments_lexer": "ipython3",
   "version": "3.9.12"
  },
  "orig_nbformat": 4,
  "vscode": {
   "interpreter": {
    "hash": "0150ad5ad973dda1cabc01bab0fdc0db78b5f921ad0cd2d7560a3f44e4650dba"
   }
  }
 },
 "nbformat": 4,
 "nbformat_minor": 2
}
